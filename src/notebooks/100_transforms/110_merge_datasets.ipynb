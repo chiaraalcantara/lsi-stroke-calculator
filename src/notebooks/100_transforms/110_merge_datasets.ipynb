{
 "cells": [
  {
   "cell_type": "code",
   "execution_count": 1,
   "metadata": {
    "colab": {
     "base_uri": "https://localhost:8080/"
    },
    "id": "OMmSZPOLnfA9",
    "outputId": "9969e657-a4d2-42a1-bbd3-8f66d0da50dd"
   },
   "outputs": [],
   "source": [
    "## Import neccessary libraries\n",
    "import pandas as pd\n",
    "import numpy as np\n",
    "import matplotlib.pyplot as plt\n",
    "import seaborn as sns\n",
    "\n",
    "%matplotlib inline\n",
    "from warnings import simplefilter\n",
    "\n",
    "simplefilter(action=\"ignore\", category=pd.errors.PerformanceWarning)\n",
    "from matplotlib import pyplot\n",
    "from pathlib import Path"
   ]
  },
  {
   "cell_type": "code",
   "execution_count": 2,
   "metadata": {
    "id": "pe6zenu-rBlv"
   },
   "outputs": [
    {
     "data": {
      "text/html": [
       "<div>\n",
       "<style scoped>\n",
       "    .dataframe tbody tr th:only-of-type {\n",
       "        vertical-align: middle;\n",
       "    }\n",
       "\n",
       "    .dataframe tbody tr th {\n",
       "        vertical-align: top;\n",
       "    }\n",
       "\n",
       "    .dataframe thead th {\n",
       "        text-align: right;\n",
       "    }\n",
       "</style>\n",
       "<table border=\"1\" class=\"dataframe\">\n",
       "  <thead>\n",
       "    <tr style=\"text-align: right;\">\n",
       "      <th></th>\n",
       "      <th>CHECKUP1</th>\n",
       "      <th>TOLDHI2</th>\n",
       "      <th>CVDINFR4</th>\n",
       "      <th>CVDSTRK3</th>\n",
       "      <th>CHCKDNY2</th>\n",
       "      <th>DIABETE4</th>\n",
       "      <th>ALCDAY5</th>\n",
       "      <th>_PRACE1</th>\n",
       "      <th>_SEX</th>\n",
       "      <th>_AGE_G</th>\n",
       "      <th>_BMI5CAT</th>\n",
       "      <th>_SMOKER3</th>\n",
       "      <th>MARIJAN1</th>\n",
       "      <th>CNCRTYP1</th>\n",
       "      <th>LCSFIRST</th>\n",
       "      <th>ECIGNOW</th>\n",
       "    </tr>\n",
       "  </thead>\n",
       "  <tbody>\n",
       "    <tr>\n",
       "      <th>0</th>\n",
       "      <td>1.0</td>\n",
       "      <td>1.0</td>\n",
       "      <td>2.0</td>\n",
       "      <td>2.0</td>\n",
       "      <td>2.0</td>\n",
       "      <td>3.0</td>\n",
       "      <td>888.0</td>\n",
       "      <td>2.0</td>\n",
       "      <td>2.0</td>\n",
       "      <td>6.0</td>\n",
       "      <td>3.0</td>\n",
       "      <td>3.0</td>\n",
       "      <td>NaN</td>\n",
       "      <td>NaN</td>\n",
       "      <td>NaN</td>\n",
       "      <td>&lt;NA&gt;</td>\n",
       "    </tr>\n",
       "    <tr>\n",
       "      <th>1</th>\n",
       "      <td>1.0</td>\n",
       "      <td>2.0</td>\n",
       "      <td>2.0</td>\n",
       "      <td>2.0</td>\n",
       "      <td>2.0</td>\n",
       "      <td>3.0</td>\n",
       "      <td>888.0</td>\n",
       "      <td>1.0</td>\n",
       "      <td>2.0</td>\n",
       "      <td>6.0</td>\n",
       "      <td>2.0</td>\n",
       "      <td>4.0</td>\n",
       "      <td>NaN</td>\n",
       "      <td>NaN</td>\n",
       "      <td>NaN</td>\n",
       "      <td>&lt;NA&gt;</td>\n",
       "    </tr>\n",
       "    <tr>\n",
       "      <th>2</th>\n",
       "      <td>1.0</td>\n",
       "      <td>2.0</td>\n",
       "      <td>2.0</td>\n",
       "      <td>2.0</td>\n",
       "      <td>2.0</td>\n",
       "      <td>1.0</td>\n",
       "      <td>888.0</td>\n",
       "      <td>2.0</td>\n",
       "      <td>2.0</td>\n",
       "      <td>6.0</td>\n",
       "      <td>4.0</td>\n",
       "      <td>4.0</td>\n",
       "      <td>NaN</td>\n",
       "      <td>NaN</td>\n",
       "      <td>NaN</td>\n",
       "      <td>&lt;NA&gt;</td>\n",
       "    </tr>\n",
       "    <tr>\n",
       "      <th>3</th>\n",
       "      <td>1.0</td>\n",
       "      <td>2.0</td>\n",
       "      <td>2.0</td>\n",
       "      <td>2.0</td>\n",
       "      <td>2.0</td>\n",
       "      <td>3.0</td>\n",
       "      <td>NaN</td>\n",
       "      <td>1.0</td>\n",
       "      <td>2.0</td>\n",
       "      <td>6.0</td>\n",
       "      <td>2.0</td>\n",
       "      <td>9.0</td>\n",
       "      <td>NaN</td>\n",
       "      <td>NaN</td>\n",
       "      <td>NaN</td>\n",
       "      <td>&lt;NA&gt;</td>\n",
       "    </tr>\n",
       "    <tr>\n",
       "      <th>4</th>\n",
       "      <td>1.0</td>\n",
       "      <td>1.0</td>\n",
       "      <td>2.0</td>\n",
       "      <td>2.0</td>\n",
       "      <td>2.0</td>\n",
       "      <td>3.0</td>\n",
       "      <td>888.0</td>\n",
       "      <td>1.0</td>\n",
       "      <td>2.0</td>\n",
       "      <td>6.0</td>\n",
       "      <td>2.0</td>\n",
       "      <td>3.0</td>\n",
       "      <td>NaN</td>\n",
       "      <td>NaN</td>\n",
       "      <td>NaN</td>\n",
       "      <td>&lt;NA&gt;</td>\n",
       "    </tr>\n",
       "  </tbody>\n",
       "</table>\n",
       "</div>"
      ],
      "text/plain": [
       "   CHECKUP1  TOLDHI2  CVDINFR4  CVDSTRK3  CHCKDNY2  DIABETE4  ALCDAY5   \n",
       "0       1.0      1.0       2.0       2.0       2.0       3.0    888.0  \\\n",
       "1       1.0      2.0       2.0       2.0       2.0       3.0    888.0   \n",
       "2       1.0      2.0       2.0       2.0       2.0       1.0    888.0   \n",
       "3       1.0      2.0       2.0       2.0       2.0       3.0      NaN   \n",
       "4       1.0      1.0       2.0       2.0       2.0       3.0    888.0   \n",
       "\n",
       "   _PRACE1  _SEX  _AGE_G  _BMI5CAT  _SMOKER3  MARIJAN1  CNCRTYP1  LCSFIRST   \n",
       "0      2.0   2.0     6.0       3.0       3.0       NaN       NaN       NaN  \\\n",
       "1      1.0   2.0     6.0       2.0       4.0       NaN       NaN       NaN   \n",
       "2      2.0   2.0     6.0       4.0       4.0       NaN       NaN       NaN   \n",
       "3      1.0   2.0     6.0       2.0       9.0       NaN       NaN       NaN   \n",
       "4      1.0   2.0     6.0       2.0       3.0       NaN       NaN       NaN   \n",
       "\n",
       "  ECIGNOW  \n",
       "0    <NA>  \n",
       "1    <NA>  \n",
       "2    <NA>  \n",
       "3    <NA>  \n",
       "4    <NA>  "
      ]
     },
     "execution_count": 2,
     "metadata": {},
     "output_type": "execute_result"
    }
   ],
   "source": [
    "# N.B. Each year, the column names are ever so slightly different. Thank you BRFSS\n",
    "# Most importantly, 2019 is _missing_ a column, which we simply fill with nulls\n",
    "\n",
    "## Import the dataset\n",
    "root_path = Path.cwd().parent.parent.parent / \"data\"\n",
    "\n",
    "df_2021 = pd.read_parquet(\n",
    "    root_path / \"LLCP2021.parquet\",\n",
    "    columns=[\n",
    "        \"CHECKUP1\",\n",
    "        \"TOLDHI3\",\n",
    "        \"CVDINFR4\",\n",
    "        \"CVDSTRK3\",\n",
    "        \"CHCKDNY2\",\n",
    "        \"DIABETE4\",\n",
    "        \"ECIGNOW1\",\n",
    "        \"ALCDAY5\",\n",
    "        \"_PRACE1\",\n",
    "        \"_SEX\",\n",
    "        \"_AGE_G\",\n",
    "        \"_BMI5CAT\",\n",
    "        \"_SMOKER3\",\n",
    "        \"MARIJAN1\",\n",
    "        \"CNCRTYP1\",\n",
    "        \"LCSFIRST\",\n",
    "    ],\n",
    ")\n",
    "df_2019 = pd.read_parquet(\n",
    "    root_path / \"LLCP2019.parquet\",\n",
    "    columns=[\n",
    "        \"CHECKUP1\",\n",
    "        \"TOLDHI2\",\n",
    "        \"CVDINFR4\",\n",
    "        \"CVDSTRK3\",\n",
    "        \"CHCKDNY2\",\n",
    "        \"DIABETE4\",\n",
    "        \"ALCDAY5\",\n",
    "        \"_PRACE1\",\n",
    "        \"_SEX\",\n",
    "        \"_AGE_G\",\n",
    "        \"_BMI5CAT\",\n",
    "        \"_SMOKER3\",\n",
    "        \"MARIJAN1\",\n",
    "        \"CNCRTYP1\",\n",
    "        \"LCSFIRST\",\n",
    "    ],\n",
    ")\n",
    "df_2017 = pd.read_parquet(\n",
    "    root_path / \"LLCP2017.parquet\",\n",
    "    columns=[\n",
    "        \"CHECKUP1\",\n",
    "        \"TOLDHI2\",\n",
    "        \"CVDINFR4\",\n",
    "        \"CVDSTRK3\",\n",
    "        \"CHCKIDNY\",\n",
    "        \"DIABETE3\",\n",
    "        \"ECIGNOW\",\n",
    "        \"ALCDAY5\",\n",
    "        \"_PRACE1\",\n",
    "        \"SEX\",\n",
    "        \"_AGE_G\",\n",
    "        \"_BMI5CAT\",\n",
    "        \"_SMOKER3\",\n",
    "        \"MARIJANA\",\n",
    "        \"CNCRTYP1\",\n",
    "        \"LCSFIRST\",\n",
    "    ],\n",
    ")\n",
    "\n",
    "df_2019[\"ECIGNOW\"] = pd.NA\n",
    "df_2019.head(5)"
   ]
  },
  {
   "cell_type": "code",
   "execution_count": 3,
   "metadata": {
    "id": "kNsBvLtG45tz"
   },
   "outputs": [],
   "source": [
    "# Reordering the columns to match other datasets\n",
    "df_2019 = df_2019[\n",
    "    [\n",
    "        \"CHECKUP1\",\n",
    "        \"TOLDHI2\",\n",
    "        \"CVDINFR4\",\n",
    "        \"CVDSTRK3\",\n",
    "        \"CHCKDNY2\",\n",
    "        \"DIABETE4\",\n",
    "        \"ECIGNOW\",\n",
    "        \"ALCDAY5\",\n",
    "        \"_PRACE1\",\n",
    "        \"_SEX\",\n",
    "        \"_AGE_G\",\n",
    "        \"_BMI5CAT\",\n",
    "        \"_SMOKER3\",\n",
    "        \"MARIJAN1\",\n",
    "        \"CNCRTYP1\",\n",
    "        \"LCSFIRST\",\n",
    "    ]\n",
    "]\n",
    "\n",
    "# Standardizing the column names to match\n",
    "df_2019.columns = [\n",
    "    \"CHECKUP1\",\n",
    "    \"TOLDHI3\",\n",
    "    \"CVDINFR4\",\n",
    "    \"CVDSTRK3\",\n",
    "    \"CHCKDNY2\",\n",
    "    \"DIABETE4\",\n",
    "    \"ECIGNOW1\",\n",
    "    \"ALCDAY5\",\n",
    "    \"_PRACE1\",\n",
    "    \"_SEX\",\n",
    "    \"_AGE_G\",\n",
    "    \"_BMI5CAT\",\n",
    "    \"_SMOKER3\",\n",
    "    \"MARIJAN1\",\n",
    "    \"CNCRTYP1\",\n",
    "    \"LCSFIRST\",\n",
    "]\n",
    "df_2017.columns = [\n",
    "    \"CHECKUP1\",\n",
    "    \"TOLDHI3\",\n",
    "    \"CVDINFR4\",\n",
    "    \"CVDSTRK3\",\n",
    "    \"CHCKDNY2\",\n",
    "    \"DIABETE4\",\n",
    "    \"ECIGNOW1\",\n",
    "    \"ALCDAY5\",\n",
    "    \"_PRACE1\",\n",
    "    \"_SEX\",\n",
    "    \"_AGE_G\",\n",
    "    \"_BMI5CAT\",\n",
    "    \"_SMOKER3\",\n",
    "    \"MARIJAN1\",\n",
    "    \"CNCRTYP1\",\n",
    "    \"LCSFIRST\",\n",
    "]"
   ]
  },
  {
   "attachments": {},
   "cell_type": "markdown",
   "metadata": {},
   "source": [
    "## Pulling Positive Examples from Past\n",
    "\n",
    "Due to the class imbalance between positive and negative stroke cases, we take the positive cases from 2017 and 2019 to minimize the class imbalance. "
   ]
  },
  {
   "cell_type": "code",
   "execution_count": 4,
   "metadata": {
    "colab": {
     "base_uri": "https://localhost:8080/",
     "height": 489
    },
    "id": "wGZ1DBuOrz00",
    "outputId": "33bc0e15-90ea-490b-cb3e-8168453cc58c"
   },
   "outputs": [
    {
     "data": {
      "text/plain": [
       "Text(0.5, 1.0, 'CVDSTRK3')"
      ]
     },
     "execution_count": 4,
     "metadata": {},
     "output_type": "execute_result"
    },
    {
     "data": {
      "image/png": "[encoded data removed]",
      "text/plain": [
       "<Figure size 640x480 with 1 Axes>"
      ]
     },
     "metadata": {},
     "output_type": "display_data"
    }
   ],
   "source": [
    "df_edit = df_2019.copy()\n",
    "df_edit = df_edit[\n",
    "    (df_edit.CVDSTRK3 != 2.0) & (df_edit.CVDSTRK3 != 9.0) & (df_edit.CVDSTRK3 != 7.0)\n",
    "]\n",
    "df_edit.dropna(subset=[\"CVDSTRK3\"], axis=0, inplace=True)\n",
    "df_2019 = df_edit.copy()\n",
    "sns.countplot(x=\"CVDSTRK3\", data=df_2019).set_title(\"CVDSTRK3\")"
   ]
  },
  {
   "cell_type": "code",
   "execution_count": 5,
   "metadata": {
    "colab": {
     "base_uri": "https://localhost:8080/",
     "height": 576
    },
    "id": "dNz_QJOV3Olx",
    "outputId": "ebb89ea8-30a1-4807-f13c-9f0a1ca74718"
   },
   "outputs": [
    {
     "data": {
      "text/plain": [
       "Text(0.5, 1.0, 'CVDSTRK3')"
      ]
     },
     "execution_count": 5,
     "metadata": {},
     "output_type": "execute_result"
    },
    {
     "data": {
      "image/png": "[encoded data removed]",
      "text/plain": [
       "<Figure size 640x480 with 1 Axes>"
      ]
     },
     "metadata": {},
     "output_type": "display_data"
    }
   ],
   "source": [
    "df_edit = df_2017.copy()\n",
    "df_edit = df_edit[\n",
    "    (df_edit.CVDSTRK3 != 2.0) & (df_edit.CVDSTRK3 != 9.0) & (df_edit.CVDSTRK3 != 7.0)\n",
    "]\n",
    "df_edit.dropna(subset=[\"CVDSTRK3\"], axis=0, inplace=True)\n",
    "df_2017 = df_edit.copy()\n",
    "sns.countplot(x=\"CVDSTRK3\", data=df_2017).set_title(\"CVDSTRK3\")"
   ]
  },
  {
   "cell_type": "code",
   "execution_count": 6,
   "metadata": {
    "id": "RVh21ZW85n8y"
   },
   "outputs": [],
   "source": [
    "## merge datasets\n",
    "df = pd.concat([df_2021, df_2019, df_2017], ignore_index=True)\n",
    "df.to_parquet(root_path / \"merged_data.parquet\", index=False)"
   ]
  },
  {
   "cell_type": "code",
   "execution_count": 7,
   "metadata": {
    "colab": {
     "base_uri": "https://localhost:8080/",
     "height": 489
    },
    "id": "n0XtRfZi6Dkj",
    "outputId": "85f0438c-ac52-46a6-b17e-78da77015f25"
   },
   "outputs": [
    {
     "data": {
      "text/plain": [
       "Text(0.5, 1.0, 'CVDSTRK3')"
      ]
     },
     "execution_count": 7,
     "metadata": {},
     "output_type": "execute_result"
    },
    {
     "data": {
      "image/png": "[encoded data removed]",
      "text/plain": [
       "<Figure size 640x480 with 1 Axes>"
      ]
     },
     "metadata": {},
     "output_type": "display_data"
    }
   ],
   "source": [
    "sns.countplot(x=\"CVDSTRK3\", data=df).set_title(\"CVDSTRK3\")"
   ]
  }
 ],
 "metadata": {
  "colab": {
   "provenance": []
  },
  "kernelspec": {
   "display_name": "Python 3",
   "name": "python3"
  },
  "language_info": {
   "codemirror_mode": {
    "name": "ipython",
    "version": 3
   },
   "file_extension": ".py",
   "mimetype": "text/x-python",
   "name": "python",
   "nbconvert_exporter": "python",
   "pygments_lexer": "ipython3",
   "version": "3.10.10"
  }
 },
 "nbformat": 4,
 "nbformat_minor": 0
}
